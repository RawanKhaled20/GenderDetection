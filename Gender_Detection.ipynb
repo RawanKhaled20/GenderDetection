{
  "metadata": {
    "kernelspec": {
      "display_name": "Python 3",
      "name": "python3"
    },
    "language_info": {
      "name": "python",
      "version": "3.6.6",
      "mimetype": "text/x-python",
      "codemirror_mode": {
        "name": "ipython",
        "version": 3
      },
      "pygments_lexer": "ipython3",
      "nbconvert_exporter": "python",
      "file_extension": ".py"
    },
    "kaggle": {
      "accelerator": "gpu",
      "dataSources": [
        {
          "sourceId": 127160,
          "sourceType": "datasetVersion",
          "datasetId": 64677
        }
      ],
      "dockerImageVersionId": 29869,
      "isInternetEnabled": false,
      "language": "python",
      "sourceType": "notebook",
      "isGpuEnabled": true
    },
    "colab": {
      "provenance": [],
      "gpuType": "T4",
      "include_colab_link": true
    },
    "accelerator": "GPU"
  },
  "nbformat_minor": 0,
  "nbformat": 4,
  "cells": [
    {
      "cell_type": "markdown",
      "metadata": {
        "id": "view-in-github",
        "colab_type": "text"
      },
      "source": [
        "<a href=\"https://colab.research.google.com/github/RawanKhaled20/GenderDetection/blob/main/Gender_Detection.ipynb\" target=\"_parent\"><img src=\"https://colab.research.google.com/assets/colab-badge.svg\" alt=\"Open In Colab\"/></a>"
      ]
    },
    {
      "cell_type": "code",
      "source": [
        "!pip install -q kaggle"
      ],
      "metadata": {
        "_uuid": "8f2839f25d086af736a60e9eeb907d3b93b6e0e5",
        "_cell_guid": "b1076dfc-b9ad-4769-8c92-a6c4dae69d19",
        "execution": {
          "iopub.status.busy": "2024-01-27T17:23:27.293177Z",
          "iopub.execute_input": "2024-01-27T17:23:27.293465Z",
          "iopub.status.idle": "2024-01-27T17:23:27.822288Z",
          "shell.execute_reply.started": "2024-01-27T17:23:27.293432Z",
          "shell.execute_reply": "2024-01-27T17:23:27.821494Z"
        },
        "trusted": true,
        "id": "OnsNziTZCLlI"
      },
      "execution_count": 1,
      "outputs": []
    },
    {
      "cell_type": "code",
      "source": [
        "from google.colab import files\n",
        "files.upload()"
      ],
      "metadata": {
        "colab": {
          "base_uri": "https://localhost:8080/",
          "height": 92
        },
        "id": "Qfr0xrGFCZ43",
        "outputId": "750604c3-a306-4bc4-b545-e53975a5459e"
      },
      "execution_count": 2,
      "outputs": [
        {
          "output_type": "display_data",
          "data": {
            "text/plain": [
              "<IPython.core.display.HTML object>"
            ],
            "text/html": [
              "\n",
              "     <input type=\"file\" id=\"files-e0262cd0-513b-44be-bf96-210f4a0fa165\" name=\"files[]\" multiple disabled\n",
              "        style=\"border:none\" />\n",
              "     <output id=\"result-e0262cd0-513b-44be-bf96-210f4a0fa165\">\n",
              "      Upload widget is only available when the cell has been executed in the\n",
              "      current browser session. Please rerun this cell to enable.\n",
              "      </output>\n",
              "      <script>// Copyright 2017 Google LLC\n",
              "//\n",
              "// Licensed under the Apache License, Version 2.0 (the \"License\");\n",
              "// you may not use this file except in compliance with the License.\n",
              "// You may obtain a copy of the License at\n",
              "//\n",
              "//      http://www.apache.org/licenses/LICENSE-2.0\n",
              "//\n",
              "// Unless required by applicable law or agreed to in writing, software\n",
              "// distributed under the License is distributed on an \"AS IS\" BASIS,\n",
              "// WITHOUT WARRANTIES OR CONDITIONS OF ANY KIND, either express or implied.\n",
              "// See the License for the specific language governing permissions and\n",
              "// limitations under the License.\n",
              "\n",
              "/**\n",
              " * @fileoverview Helpers for google.colab Python module.\n",
              " */\n",
              "(function(scope) {\n",
              "function span(text, styleAttributes = {}) {\n",
              "  const element = document.createElement('span');\n",
              "  element.textContent = text;\n",
              "  for (const key of Object.keys(styleAttributes)) {\n",
              "    element.style[key] = styleAttributes[key];\n",
              "  }\n",
              "  return element;\n",
              "}\n",
              "\n",
              "// Max number of bytes which will be uploaded at a time.\n",
              "const MAX_PAYLOAD_SIZE = 100 * 1024;\n",
              "\n",
              "function _uploadFiles(inputId, outputId) {\n",
              "  const steps = uploadFilesStep(inputId, outputId);\n",
              "  const outputElement = document.getElementById(outputId);\n",
              "  // Cache steps on the outputElement to make it available for the next call\n",
              "  // to uploadFilesContinue from Python.\n",
              "  outputElement.steps = steps;\n",
              "\n",
              "  return _uploadFilesContinue(outputId);\n",
              "}\n",
              "\n",
              "// This is roughly an async generator (not supported in the browser yet),\n",
              "// where there are multiple asynchronous steps and the Python side is going\n",
              "// to poll for completion of each step.\n",
              "// This uses a Promise to block the python side on completion of each step,\n",
              "// then passes the result of the previous step as the input to the next step.\n",
              "function _uploadFilesContinue(outputId) {\n",
              "  const outputElement = document.getElementById(outputId);\n",
              "  const steps = outputElement.steps;\n",
              "\n",
              "  const next = steps.next(outputElement.lastPromiseValue);\n",
              "  return Promise.resolve(next.value.promise).then((value) => {\n",
              "    // Cache the last promise value to make it available to the next\n",
              "    // step of the generator.\n",
              "    outputElement.lastPromiseValue = value;\n",
              "    return next.value.response;\n",
              "  });\n",
              "}\n",
              "\n",
              "/**\n",
              " * Generator function which is called between each async step of the upload\n",
              " * process.\n",
              " * @param {string} inputId Element ID of the input file picker element.\n",
              " * @param {string} outputId Element ID of the output display.\n",
              " * @return {!Iterable<!Object>} Iterable of next steps.\n",
              " */\n",
              "function* uploadFilesStep(inputId, outputId) {\n",
              "  const inputElement = document.getElementById(inputId);\n",
              "  inputElement.disabled = false;\n",
              "\n",
              "  const outputElement = document.getElementById(outputId);\n",
              "  outputElement.innerHTML = '';\n",
              "\n",
              "  const pickedPromise = new Promise((resolve) => {\n",
              "    inputElement.addEventListener('change', (e) => {\n",
              "      resolve(e.target.files);\n",
              "    });\n",
              "  });\n",
              "\n",
              "  const cancel = document.createElement('button');\n",
              "  inputElement.parentElement.appendChild(cancel);\n",
              "  cancel.textContent = 'Cancel upload';\n",
              "  const cancelPromise = new Promise((resolve) => {\n",
              "    cancel.onclick = () => {\n",
              "      resolve(null);\n",
              "    };\n",
              "  });\n",
              "\n",
              "  // Wait for the user to pick the files.\n",
              "  const files = yield {\n",
              "    promise: Promise.race([pickedPromise, cancelPromise]),\n",
              "    response: {\n",
              "      action: 'starting',\n",
              "    }\n",
              "  };\n",
              "\n",
              "  cancel.remove();\n",
              "\n",
              "  // Disable the input element since further picks are not allowed.\n",
              "  inputElement.disabled = true;\n",
              "\n",
              "  if (!files) {\n",
              "    return {\n",
              "      response: {\n",
              "        action: 'complete',\n",
              "      }\n",
              "    };\n",
              "  }\n",
              "\n",
              "  for (const file of files) {\n",
              "    const li = document.createElement('li');\n",
              "    li.append(span(file.name, {fontWeight: 'bold'}));\n",
              "    li.append(span(\n",
              "        `(${file.type || 'n/a'}) - ${file.size} bytes, ` +\n",
              "        `last modified: ${\n",
              "            file.lastModifiedDate ? file.lastModifiedDate.toLocaleDateString() :\n",
              "                                    'n/a'} - `));\n",
              "    const percent = span('0% done');\n",
              "    li.appendChild(percent);\n",
              "\n",
              "    outputElement.appendChild(li);\n",
              "\n",
              "    const fileDataPromise = new Promise((resolve) => {\n",
              "      const reader = new FileReader();\n",
              "      reader.onload = (e) => {\n",
              "        resolve(e.target.result);\n",
              "      };\n",
              "      reader.readAsArrayBuffer(file);\n",
              "    });\n",
              "    // Wait for the data to be ready.\n",
              "    let fileData = yield {\n",
              "      promise: fileDataPromise,\n",
              "      response: {\n",
              "        action: 'continue',\n",
              "      }\n",
              "    };\n",
              "\n",
              "    // Use a chunked sending to avoid message size limits. See b/62115660.\n",
              "    let position = 0;\n",
              "    do {\n",
              "      const length = Math.min(fileData.byteLength - position, MAX_PAYLOAD_SIZE);\n",
              "      const chunk = new Uint8Array(fileData, position, length);\n",
              "      position += length;\n",
              "\n",
              "      const base64 = btoa(String.fromCharCode.apply(null, chunk));\n",
              "      yield {\n",
              "        response: {\n",
              "          action: 'append',\n",
              "          file: file.name,\n",
              "          data: base64,\n",
              "        },\n",
              "      };\n",
              "\n",
              "      let percentDone = fileData.byteLength === 0 ?\n",
              "          100 :\n",
              "          Math.round((position / fileData.byteLength) * 100);\n",
              "      percent.textContent = `${percentDone}% done`;\n",
              "\n",
              "    } while (position < fileData.byteLength);\n",
              "  }\n",
              "\n",
              "  // All done.\n",
              "  yield {\n",
              "    response: {\n",
              "      action: 'complete',\n",
              "    }\n",
              "  };\n",
              "}\n",
              "\n",
              "scope.google = scope.google || {};\n",
              "scope.google.colab = scope.google.colab || {};\n",
              "scope.google.colab._files = {\n",
              "  _uploadFiles,\n",
              "  _uploadFilesContinue,\n",
              "};\n",
              "})(self);\n",
              "</script> "
            ]
          },
          "metadata": {}
        },
        {
          "output_type": "stream",
          "name": "stdout",
          "text": [
            "Saving kaggle.json to kaggle.json\n"
          ]
        },
        {
          "output_type": "execute_result",
          "data": {
            "text/plain": [
              "{'kaggle.json': b'{\"username\":\"rawankhaled20\",\"key\":\"f5a17aecb67ca4675b425dadbe4ab60e\"}'}"
            ]
          },
          "metadata": {},
          "execution_count": 2
        }
      ]
    },
    {
      "cell_type": "code",
      "source": [
        "!mkdir -p ~/.kaggle"
      ],
      "metadata": {
        "id": "Lo0EPaC8CcGj"
      },
      "execution_count": 3,
      "outputs": []
    },
    {
      "cell_type": "code",
      "source": [
        "!cp kaggle.json ~/.kaggle/"
      ],
      "metadata": {
        "id": "R3q0fUeQCd5Q"
      },
      "execution_count": 4,
      "outputs": []
    },
    {
      "cell_type": "code",
      "source": [
        "!kaggle datasets download -d nipunarora8/age-gender-and-ethnicity-face-data-csv"
      ],
      "metadata": {
        "colab": {
          "base_uri": "https://localhost:8080/"
        },
        "id": "EmpwnvKCCh3m",
        "outputId": "2342aa6d-d26a-429b-cde8-d7387908b16d"
      },
      "execution_count": 5,
      "outputs": [
        {
          "output_type": "stream",
          "name": "stdout",
          "text": [
            "Warning: Your Kaggle API key is readable by other users on this system! To fix this, you can run 'chmod 600 /root/.kaggle/kaggle.json'\n",
            "Downloading age-gender-and-ethnicity-face-data-csv.zip to /content\n",
            " 77% 49.0M/63.2M [00:00<00:00, 54.9MB/s]\n",
            "100% 63.2M/63.2M [00:01<00:00, 65.9MB/s]\n"
          ]
        }
      ]
    },
    {
      "cell_type": "code",
      "source": [
        "! unzip age-gender-and-ethnicity-face-data-csv.zip"
      ],
      "metadata": {
        "id": "qISg4cOqCflw",
        "colab": {
          "base_uri": "https://localhost:8080/"
        },
        "outputId": "e140b801-3b42-4327-cb5b-8d48651e7a50"
      },
      "execution_count": 6,
      "outputs": [
        {
          "output_type": "stream",
          "name": "stdout",
          "text": [
            "Archive:  age-gender-and-ethnicity-face-data-csv.zip\n",
            "  inflating: age_gender.csv          \n"
          ]
        }
      ]
    },
    {
      "cell_type": "code",
      "source": [
        "!pip install scikit-plot\n",
        "\n",
        "import math\n",
        "import numpy as np\n",
        "import pandas as pd\n",
        "\n",
        "import scikitplot\n",
        "import seaborn as sns\n",
        "from matplotlib import pyplot\n",
        "\n",
        "from sklearn.model_selection import train_test_split\n",
        "from sklearn.preprocessing import LabelEncoder\n",
        "from sklearn.metrics import classification_report\n",
        "\n",
        "import tensorflow as tf\n",
        "from tensorflow.keras import optimizers\n",
        "from tensorflow.keras.datasets import mnist\n",
        "from tensorflow.keras.models import Sequential\n",
        "from tensorflow.keras.layers import Flatten, Dense, Conv2D, MaxPooling2D\n",
        "from tensorflow.keras.layers import Dropout, BatchNormalization, LeakyReLU, Activation\n",
        "from tensorflow.keras.callbacks import Callback, EarlyStopping, ReduceLROnPlateau\n",
        "from tensorflow.keras.preprocessing.image import ImageDataGenerator"
      ],
      "metadata": {
        "_uuid": "d629ff2d2480ee46fbb7e2d37f6b5fab8052498a",
        "_cell_guid": "79c7e3d0-c299-4dcb-8224-4455121ee9b0",
        "execution": {
          "iopub.status.busy": "2024-01-27T17:23:27.824355Z",
          "iopub.execute_input": "2024-01-27T17:23:27.824611Z",
          "iopub.status.idle": "2024-01-27T17:23:34.464981Z",
          "shell.execute_reply.started": "2024-01-27T17:23:27.824582Z",
          "shell.execute_reply": "2024-01-27T17:23:34.464035Z"
        },
        "trusted": true,
        "colab": {
          "base_uri": "https://localhost:8080/"
        },
        "id": "9Vie1s09CLlK",
        "outputId": "1c2af90c-2f23-4631-a2e3-24aafbf0feaf"
      },
      "execution_count": 7,
      "outputs": [
        {
          "output_type": "stream",
          "name": "stdout",
          "text": [
            "Collecting scikit-plot\n",
            "  Downloading scikit_plot-0.3.7-py3-none-any.whl (33 kB)\n",
            "Requirement already satisfied: matplotlib>=1.4.0 in /usr/local/lib/python3.10/dist-packages (from scikit-plot) (3.7.1)\n",
            "Requirement already satisfied: scikit-learn>=0.18 in /usr/local/lib/python3.10/dist-packages (from scikit-plot) (1.2.2)\n",
            "Requirement already satisfied: scipy>=0.9 in /usr/local/lib/python3.10/dist-packages (from scikit-plot) (1.11.4)\n",
            "Requirement already satisfied: joblib>=0.10 in /usr/local/lib/python3.10/dist-packages (from scikit-plot) (1.3.2)\n",
            "Requirement already satisfied: contourpy>=1.0.1 in /usr/local/lib/python3.10/dist-packages (from matplotlib>=1.4.0->scikit-plot) (1.2.0)\n",
            "Requirement already satisfied: cycler>=0.10 in /usr/local/lib/python3.10/dist-packages (from matplotlib>=1.4.0->scikit-plot) (0.12.1)\n",
            "Requirement already satisfied: fonttools>=4.22.0 in /usr/local/lib/python3.10/dist-packages (from matplotlib>=1.4.0->scikit-plot) (4.47.2)\n",
            "Requirement already satisfied: kiwisolver>=1.0.1 in /usr/local/lib/python3.10/dist-packages (from matplotlib>=1.4.0->scikit-plot) (1.4.5)\n",
            "Requirement already satisfied: numpy>=1.20 in /usr/local/lib/python3.10/dist-packages (from matplotlib>=1.4.0->scikit-plot) (1.23.5)\n",
            "Requirement already satisfied: packaging>=20.0 in /usr/local/lib/python3.10/dist-packages (from matplotlib>=1.4.0->scikit-plot) (23.2)\n",
            "Requirement already satisfied: pillow>=6.2.0 in /usr/local/lib/python3.10/dist-packages (from matplotlib>=1.4.0->scikit-plot) (9.4.0)\n",
            "Requirement already satisfied: pyparsing>=2.3.1 in /usr/local/lib/python3.10/dist-packages (from matplotlib>=1.4.0->scikit-plot) (3.1.1)\n",
            "Requirement already satisfied: python-dateutil>=2.7 in /usr/local/lib/python3.10/dist-packages (from matplotlib>=1.4.0->scikit-plot) (2.8.2)\n",
            "Requirement already satisfied: threadpoolctl>=2.0.0 in /usr/local/lib/python3.10/dist-packages (from scikit-learn>=0.18->scikit-plot) (3.2.0)\n",
            "Requirement already satisfied: six>=1.5 in /usr/local/lib/python3.10/dist-packages (from python-dateutil>=2.7->matplotlib>=1.4.0->scikit-plot) (1.16.0)\n",
            "Installing collected packages: scikit-plot\n",
            "Successfully installed scikit-plot-0.3.7\n"
          ]
        }
      ]
    },
    {
      "cell_type": "code",
      "source": [
        "df = pd.read_csv('/content/age_gender.csv')\n",
        "print(df.shape)\n",
        "df.head()"
      ],
      "metadata": {
        "execution": {
          "iopub.status.busy": "2024-01-27T17:23:34.466579Z",
          "iopub.execute_input": "2024-01-27T17:23:34.466892Z",
          "iopub.status.idle": "2024-01-27T17:23:39.661481Z",
          "shell.execute_reply.started": "2024-01-27T17:23:34.466853Z",
          "shell.execute_reply": "2024-01-27T17:23:39.660578Z"
        },
        "trusted": true,
        "colab": {
          "base_uri": "https://localhost:8080/",
          "height": 224
        },
        "id": "USAaLae6CLlK",
        "outputId": "66af0210-eeea-47f0-f69c-972d3021c155"
      },
      "execution_count": 8,
      "outputs": [
        {
          "output_type": "stream",
          "name": "stdout",
          "text": [
            "(23705, 5)\n"
          ]
        },
        {
          "output_type": "execute_result",
          "data": {
            "text/plain": [
              "   age  ethnicity  gender                        img_name  \\\n",
              "0    1          2       0  20161219203650636.jpg.chip.jpg   \n",
              "1    1          2       0  20161219222752047.jpg.chip.jpg   \n",
              "2    1          2       0  20161219222832191.jpg.chip.jpg   \n",
              "3    1          2       0  20161220144911423.jpg.chip.jpg   \n",
              "4    1          2       0  20161220144914327.jpg.chip.jpg   \n",
              "\n",
              "                                              pixels  \n",
              "0  129 128 128 126 127 130 133 135 139 142 145 14...  \n",
              "1  164 74 111 168 169 171 175 182 184 188 193 199...  \n",
              "2  67 70 71 70 69 67 70 79 90 103 116 132 145 155...  \n",
              "3  193 197 198 200 199 200 202 203 204 205 208 21...  \n",
              "4  202 205 209 210 209 209 210 211 212 214 218 21...  "
            ],
            "text/html": [
              "\n",
              "  <div id=\"df-1d497c95-9a17-4845-8989-77e03a93d1d7\" class=\"colab-df-container\">\n",
              "    <div>\n",
              "<style scoped>\n",
              "    .dataframe tbody tr th:only-of-type {\n",
              "        vertical-align: middle;\n",
              "    }\n",
              "\n",
              "    .dataframe tbody tr th {\n",
              "        vertical-align: top;\n",
              "    }\n",
              "\n",
              "    .dataframe thead th {\n",
              "        text-align: right;\n",
              "    }\n",
              "</style>\n",
              "<table border=\"1\" class=\"dataframe\">\n",
              "  <thead>\n",
              "    <tr style=\"text-align: right;\">\n",
              "      <th></th>\n",
              "      <th>age</th>\n",
              "      <th>ethnicity</th>\n",
              "      <th>gender</th>\n",
              "      <th>img_name</th>\n",
              "      <th>pixels</th>\n",
              "    </tr>\n",
              "  </thead>\n",
              "  <tbody>\n",
              "    <tr>\n",
              "      <th>0</th>\n",
              "      <td>1</td>\n",
              "      <td>2</td>\n",
              "      <td>0</td>\n",
              "      <td>20161219203650636.jpg.chip.jpg</td>\n",
              "      <td>129 128 128 126 127 130 133 135 139 142 145 14...</td>\n",
              "    </tr>\n",
              "    <tr>\n",
              "      <th>1</th>\n",
              "      <td>1</td>\n",
              "      <td>2</td>\n",
              "      <td>0</td>\n",
              "      <td>20161219222752047.jpg.chip.jpg</td>\n",
              "      <td>164 74 111 168 169 171 175 182 184 188 193 199...</td>\n",
              "    </tr>\n",
              "    <tr>\n",
              "      <th>2</th>\n",
              "      <td>1</td>\n",
              "      <td>2</td>\n",
              "      <td>0</td>\n",
              "      <td>20161219222832191.jpg.chip.jpg</td>\n",
              "      <td>67 70 71 70 69 67 70 79 90 103 116 132 145 155...</td>\n",
              "    </tr>\n",
              "    <tr>\n",
              "      <th>3</th>\n",
              "      <td>1</td>\n",
              "      <td>2</td>\n",
              "      <td>0</td>\n",
              "      <td>20161220144911423.jpg.chip.jpg</td>\n",
              "      <td>193 197 198 200 199 200 202 203 204 205 208 21...</td>\n",
              "    </tr>\n",
              "    <tr>\n",
              "      <th>4</th>\n",
              "      <td>1</td>\n",
              "      <td>2</td>\n",
              "      <td>0</td>\n",
              "      <td>20161220144914327.jpg.chip.jpg</td>\n",
              "      <td>202 205 209 210 209 209 210 211 212 214 218 21...</td>\n",
              "    </tr>\n",
              "  </tbody>\n",
              "</table>\n",
              "</div>\n",
              "    <div class=\"colab-df-buttons\">\n",
              "\n",
              "  <div class=\"colab-df-container\">\n",
              "    <button class=\"colab-df-convert\" onclick=\"convertToInteractive('df-1d497c95-9a17-4845-8989-77e03a93d1d7')\"\n",
              "            title=\"Convert this dataframe to an interactive table.\"\n",
              "            style=\"display:none;\">\n",
              "\n",
              "  <svg xmlns=\"http://www.w3.org/2000/svg\" height=\"24px\" viewBox=\"0 -960 960 960\">\n",
              "    <path d=\"M120-120v-720h720v720H120Zm60-500h600v-160H180v160Zm220 220h160v-160H400v160Zm0 220h160v-160H400v160ZM180-400h160v-160H180v160Zm440 0h160v-160H620v160ZM180-180h160v-160H180v160Zm440 0h160v-160H620v160Z\"/>\n",
              "  </svg>\n",
              "    </button>\n",
              "\n",
              "  <style>\n",
              "    .colab-df-container {\n",
              "      display:flex;\n",
              "      gap: 12px;\n",
              "    }\n",
              "\n",
              "    .colab-df-convert {\n",
              "      background-color: #E8F0FE;\n",
              "      border: none;\n",
              "      border-radius: 50%;\n",
              "      cursor: pointer;\n",
              "      display: none;\n",
              "      fill: #1967D2;\n",
              "      height: 32px;\n",
              "      padding: 0 0 0 0;\n",
              "      width: 32px;\n",
              "    }\n",
              "\n",
              "    .colab-df-convert:hover {\n",
              "      background-color: #E2EBFA;\n",
              "      box-shadow: 0px 1px 2px rgba(60, 64, 67, 0.3), 0px 1px 3px 1px rgba(60, 64, 67, 0.15);\n",
              "      fill: #174EA6;\n",
              "    }\n",
              "\n",
              "    .colab-df-buttons div {\n",
              "      margin-bottom: 4px;\n",
              "    }\n",
              "\n",
              "    [theme=dark] .colab-df-convert {\n",
              "      background-color: #3B4455;\n",
              "      fill: #D2E3FC;\n",
              "    }\n",
              "\n",
              "    [theme=dark] .colab-df-convert:hover {\n",
              "      background-color: #434B5C;\n",
              "      box-shadow: 0px 1px 3px 1px rgba(0, 0, 0, 0.15);\n",
              "      filter: drop-shadow(0px 1px 2px rgba(0, 0, 0, 0.3));\n",
              "      fill: #FFFFFF;\n",
              "    }\n",
              "  </style>\n",
              "\n",
              "    <script>\n",
              "      const buttonEl =\n",
              "        document.querySelector('#df-1d497c95-9a17-4845-8989-77e03a93d1d7 button.colab-df-convert');\n",
              "      buttonEl.style.display =\n",
              "        google.colab.kernel.accessAllowed ? 'block' : 'none';\n",
              "\n",
              "      async function convertToInteractive(key) {\n",
              "        const element = document.querySelector('#df-1d497c95-9a17-4845-8989-77e03a93d1d7');\n",
              "        const dataTable =\n",
              "          await google.colab.kernel.invokeFunction('convertToInteractive',\n",
              "                                                    [key], {});\n",
              "        if (!dataTable) return;\n",
              "\n",
              "        const docLinkHtml = 'Like what you see? Visit the ' +\n",
              "          '<a target=\"_blank\" href=https://colab.research.google.com/notebooks/data_table.ipynb>data table notebook</a>'\n",
              "          + ' to learn more about interactive tables.';\n",
              "        element.innerHTML = '';\n",
              "        dataTable['output_type'] = 'display_data';\n",
              "        await google.colab.output.renderOutput(dataTable, element);\n",
              "        const docLink = document.createElement('div');\n",
              "        docLink.innerHTML = docLinkHtml;\n",
              "        element.appendChild(docLink);\n",
              "      }\n",
              "    </script>\n",
              "  </div>\n",
              "\n",
              "\n",
              "<div id=\"df-33f62448-44c4-4610-9314-dde6bbb0260f\">\n",
              "  <button class=\"colab-df-quickchart\" onclick=\"quickchart('df-33f62448-44c4-4610-9314-dde6bbb0260f')\"\n",
              "            title=\"Suggest charts\"\n",
              "            style=\"display:none;\">\n",
              "\n",
              "<svg xmlns=\"http://www.w3.org/2000/svg\" height=\"24px\"viewBox=\"0 0 24 24\"\n",
              "     width=\"24px\">\n",
              "    <g>\n",
              "        <path d=\"M19 3H5c-1.1 0-2 .9-2 2v14c0 1.1.9 2 2 2h14c1.1 0 2-.9 2-2V5c0-1.1-.9-2-2-2zM9 17H7v-7h2v7zm4 0h-2V7h2v10zm4 0h-2v-4h2v4z\"/>\n",
              "    </g>\n",
              "</svg>\n",
              "  </button>\n",
              "\n",
              "<style>\n",
              "  .colab-df-quickchart {\n",
              "      --bg-color: #E8F0FE;\n",
              "      --fill-color: #1967D2;\n",
              "      --hover-bg-color: #E2EBFA;\n",
              "      --hover-fill-color: #174EA6;\n",
              "      --disabled-fill-color: #AAA;\n",
              "      --disabled-bg-color: #DDD;\n",
              "  }\n",
              "\n",
              "  [theme=dark] .colab-df-quickchart {\n",
              "      --bg-color: #3B4455;\n",
              "      --fill-color: #D2E3FC;\n",
              "      --hover-bg-color: #434B5C;\n",
              "      --hover-fill-color: #FFFFFF;\n",
              "      --disabled-bg-color: #3B4455;\n",
              "      --disabled-fill-color: #666;\n",
              "  }\n",
              "\n",
              "  .colab-df-quickchart {\n",
              "    background-color: var(--bg-color);\n",
              "    border: none;\n",
              "    border-radius: 50%;\n",
              "    cursor: pointer;\n",
              "    display: none;\n",
              "    fill: var(--fill-color);\n",
              "    height: 32px;\n",
              "    padding: 0;\n",
              "    width: 32px;\n",
              "  }\n",
              "\n",
              "  .colab-df-quickchart:hover {\n",
              "    background-color: var(--hover-bg-color);\n",
              "    box-shadow: 0 1px 2px rgba(60, 64, 67, 0.3), 0 1px 3px 1px rgba(60, 64, 67, 0.15);\n",
              "    fill: var(--button-hover-fill-color);\n",
              "  }\n",
              "\n",
              "  .colab-df-quickchart-complete:disabled,\n",
              "  .colab-df-quickchart-complete:disabled:hover {\n",
              "    background-color: var(--disabled-bg-color);\n",
              "    fill: var(--disabled-fill-color);\n",
              "    box-shadow: none;\n",
              "  }\n",
              "\n",
              "  .colab-df-spinner {\n",
              "    border: 2px solid var(--fill-color);\n",
              "    border-color: transparent;\n",
              "    border-bottom-color: var(--fill-color);\n",
              "    animation:\n",
              "      spin 1s steps(1) infinite;\n",
              "  }\n",
              "\n",
              "  @keyframes spin {\n",
              "    0% {\n",
              "      border-color: transparent;\n",
              "      border-bottom-color: var(--fill-color);\n",
              "      border-left-color: var(--fill-color);\n",
              "    }\n",
              "    20% {\n",
              "      border-color: transparent;\n",
              "      border-left-color: var(--fill-color);\n",
              "      border-top-color: var(--fill-color);\n",
              "    }\n",
              "    30% {\n",
              "      border-color: transparent;\n",
              "      border-left-color: var(--fill-color);\n",
              "      border-top-color: var(--fill-color);\n",
              "      border-right-color: var(--fill-color);\n",
              "    }\n",
              "    40% {\n",
              "      border-color: transparent;\n",
              "      border-right-color: var(--fill-color);\n",
              "      border-top-color: var(--fill-color);\n",
              "    }\n",
              "    60% {\n",
              "      border-color: transparent;\n",
              "      border-right-color: var(--fill-color);\n",
              "    }\n",
              "    80% {\n",
              "      border-color: transparent;\n",
              "      border-right-color: var(--fill-color);\n",
              "      border-bottom-color: var(--fill-color);\n",
              "    }\n",
              "    90% {\n",
              "      border-color: transparent;\n",
              "      border-bottom-color: var(--fill-color);\n",
              "    }\n",
              "  }\n",
              "</style>\n",
              "\n",
              "  <script>\n",
              "    async function quickchart(key) {\n",
              "      const quickchartButtonEl =\n",
              "        document.querySelector('#' + key + ' button');\n",
              "      quickchartButtonEl.disabled = true;  // To prevent multiple clicks.\n",
              "      quickchartButtonEl.classList.add('colab-df-spinner');\n",
              "      try {\n",
              "        const charts = await google.colab.kernel.invokeFunction(\n",
              "            'suggestCharts', [key], {});\n",
              "      } catch (error) {\n",
              "        console.error('Error during call to suggestCharts:', error);\n",
              "      }\n",
              "      quickchartButtonEl.classList.remove('colab-df-spinner');\n",
              "      quickchartButtonEl.classList.add('colab-df-quickchart-complete');\n",
              "    }\n",
              "    (() => {\n",
              "      let quickchartButtonEl =\n",
              "        document.querySelector('#df-33f62448-44c4-4610-9314-dde6bbb0260f button');\n",
              "      quickchartButtonEl.style.display =\n",
              "        google.colab.kernel.accessAllowed ? 'block' : 'none';\n",
              "    })();\n",
              "  </script>\n",
              "</div>\n",
              "\n",
              "    </div>\n",
              "  </div>\n"
            ]
          },
          "metadata": {},
          "execution_count": 8
        }
      ]
    },
    {
      "cell_type": "code",
      "source": [
        "df.gender.unique()"
      ],
      "metadata": {
        "execution": {
          "iopub.status.busy": "2024-01-27T17:23:39.662748Z",
          "iopub.execute_input": "2024-01-27T17:23:39.662983Z",
          "iopub.status.idle": "2024-01-27T17:23:39.671350Z",
          "shell.execute_reply.started": "2024-01-27T17:23:39.662957Z",
          "shell.execute_reply": "2024-01-27T17:23:39.670456Z"
        },
        "trusted": true,
        "colab": {
          "base_uri": "https://localhost:8080/"
        },
        "id": "gSTnVlgVCLlL",
        "outputId": "1a85b196-1316-4409-fa94-d44d715e6ae4"
      },
      "execution_count": 9,
      "outputs": [
        {
          "output_type": "execute_result",
          "data": {
            "text/plain": [
              "array([0, 1])"
            ]
          },
          "metadata": {},
          "execution_count": 9
        }
      ]
    },
    {
      "cell_type": "code",
      "source": [
        "Gender_label_to_text = {0:'Male', 1:'FeMale'}"
      ],
      "metadata": {
        "execution": {
          "iopub.status.busy": "2024-01-27T17:23:39.674327Z",
          "iopub.execute_input": "2024-01-27T17:23:39.674588Z",
          "iopub.status.idle": "2024-01-27T17:23:39.684008Z",
          "shell.execute_reply.started": "2024-01-27T17:23:39.674562Z",
          "shell.execute_reply": "2024-01-27T17:23:39.683315Z"
        },
        "trusted": true,
        "id": "kkAMTpctCLlL"
      },
      "execution_count": 10,
      "outputs": []
    },
    {
      "cell_type": "code",
      "source": [
        "df.gender.value_counts()"
      ],
      "metadata": {
        "execution": {
          "iopub.status.busy": "2024-01-27T17:23:39.687205Z",
          "iopub.execute_input": "2024-01-27T17:23:39.687598Z",
          "iopub.status.idle": "2024-01-27T17:23:39.698398Z",
          "shell.execute_reply.started": "2024-01-27T17:23:39.687550Z",
          "shell.execute_reply": "2024-01-27T17:23:39.697451Z"
        },
        "trusted": true,
        "colab": {
          "base_uri": "https://localhost:8080/"
        },
        "id": "5Ovjp-HVCLlL",
        "outputId": "48406d3a-95cb-4d99-d7f3-d690d7f18b12"
      },
      "execution_count": 11,
      "outputs": [
        {
          "output_type": "execute_result",
          "data": {
            "text/plain": [
              "0    12391\n",
              "1    11314\n",
              "Name: gender, dtype: int64"
            ]
          },
          "metadata": {},
          "execution_count": 11
        }
      ]
    },
    {
      "cell_type": "code",
      "source": [
        "sns.countplot(df.gender)\n",
        "pyplot.show()"
      ],
      "metadata": {
        "execution": {
          "iopub.status.busy": "2024-01-27T17:23:39.699623Z",
          "iopub.execute_input": "2024-01-27T17:23:39.699850Z",
          "iopub.status.idle": "2024-01-27T17:23:39.856294Z",
          "shell.execute_reply.started": "2024-01-27T17:23:39.699824Z",
          "shell.execute_reply": "2024-01-27T17:23:39.855527Z"
        },
        "trusted": true,
        "colab": {
          "base_uri": "https://localhost:8080/",
          "height": 430
        },
        "id": "Ya6W65O7CLlL",
        "outputId": "a0e669b4-99db-423d-d355-59e0a70118da"
      },
      "execution_count": 13,
      "outputs": [
        {
          "output_type": "display_data",
          "data": {
            "text/plain": [
              "<Figure size 640x480 with 1 Axes>"
            ],
            "image/png": "[encoded data removed]"
          },
          "metadata": {}
        }
      ]
    },
    {
      "cell_type": "markdown",
      "source": [
        "`So majority classes belongs to 3:Happy, 4:Sad and 6:Neutral nd we are also intersted in these three classes only.`"
      ],
      "metadata": {
        "id": "QiDUOsfiCLlL"
      }
    },
    {
      "cell_type": "code",
      "source": [
        "math.sqrt(len(df.pixels[0].split(' ')))"
      ],
      "metadata": {
        "execution": {
          "iopub.status.busy": "2024-01-27T17:23:39.857706Z",
          "iopub.execute_input": "2024-01-27T17:23:39.858010Z",
          "iopub.status.idle": "2024-01-27T17:23:39.864777Z",
          "shell.execute_reply.started": "2024-01-27T17:23:39.857972Z",
          "shell.execute_reply": "2024-01-27T17:23:39.864113Z"
        },
        "trusted": true,
        "colab": {
          "base_uri": "https://localhost:8080/"
        },
        "id": "Iub_YtRzCLlM",
        "outputId": "441d45d9-e891-427b-cc91-b41ca08380e8"
      },
      "execution_count": 11,
      "outputs": [
        {
          "output_type": "execute_result",
          "data": {
            "text/plain": [
              "48.0"
            ]
          },
          "metadata": {},
          "execution_count": 11
        }
      ]
    },
    {
      "cell_type": "code",
      "source": [
        "fig = pyplot.figure(1, (14, 14))\n",
        "\n",
        "k = 0\n",
        "for label in sorted(df.gender.unique()):\n",
        "    for j in range(7):\n",
        "        px = df[df.gender==label].pixels.iloc[k]\n",
        "        px = np.array(px.split(' ')).reshape(48, 48).astype('float32')\n",
        "\n",
        "        k += 1\n",
        "        ax = pyplot.subplot(7, 7, k)\n",
        "        ax.imshow(px, cmap='gray')\n",
        "        ax.set_xticks([])\n",
        "        ax.set_yticks([])\n",
        "        ax.set_title(Gender_label_to_text[label])\n",
        "        pyplot.tight_layout()"
      ],
      "metadata": {
        "execution": {
          "iopub.status.busy": "2024-01-27T17:23:39.866130Z",
          "iopub.execute_input": "2024-01-27T17:23:39.866359Z",
          "iopub.status.idle": "2024-01-27T17:23:48.576475Z",
          "shell.execute_reply.started": "2024-01-27T17:23:39.866334Z",
          "shell.execute_reply": "2024-01-27T17:23:48.575583Z"
        },
        "trusted": true,
        "colab": {
          "base_uri": "https://localhost:8080/",
          "height": 340
        },
        "id": "r_PRCDqMCLlM",
        "outputId": "8c5afc64-2698-4df5-9606-28f1c33f4407"
      },
      "execution_count": 12,
      "outputs": [
        {
          "output_type": "display_data",
          "data": {
            "text/plain": [
              "<Figure size 1400x1400 with 14 Axes>"
            ],
            "image/png": "[encoded data removed]"
          },
          "metadata": {}
        }
      ]
    },
    {
      "cell_type": "code",
      "source": [
        "INTERESTED_LABELS = [0,1]"
      ],
      "metadata": {
        "execution": {
          "iopub.status.busy": "2024-01-27T17:23:48.577654Z",
          "iopub.execute_input": "2024-01-27T17:23:48.577865Z",
          "iopub.status.idle": "2024-01-27T17:23:48.581432Z",
          "shell.execute_reply.started": "2024-01-27T17:23:48.577840Z",
          "shell.execute_reply": "2024-01-27T17:23:48.580755Z"
        },
        "trusted": true,
        "id": "lwonBc4NCLlN"
      },
      "execution_count": 13,
      "outputs": []
    },
    {
      "cell_type": "code",
      "source": [
        "df = df[df.gender.isin(INTERESTED_LABELS)]\n",
        "df.shape"
      ],
      "metadata": {
        "execution": {
          "iopub.status.busy": "2024-01-27T17:23:48.583311Z",
          "iopub.execute_input": "2024-01-27T17:23:48.583590Z",
          "iopub.status.idle": "2024-01-27T17:23:48.598626Z",
          "shell.execute_reply.started": "2024-01-27T17:23:48.583559Z",
          "shell.execute_reply": "2024-01-27T17:23:48.597871Z"
        },
        "trusted": true,
        "colab": {
          "base_uri": "https://localhost:8080/"
        },
        "id": "DJKuBWq0CLlN",
        "outputId": "f792baef-455d-4f29-cab2-2378e0a2ac38"
      },
      "execution_count": 14,
      "outputs": [
        {
          "output_type": "execute_result",
          "data": {
            "text/plain": [
              "(23705, 5)"
            ]
          },
          "metadata": {},
          "execution_count": 14
        }
      ]
    },
    {
      "cell_type": "markdown",
      "source": [
        "`Now I will make the data compatible for neural networks.`"
      ],
      "metadata": {
        "id": "gYnED9kDCLlN"
      }
    },
    {
      "cell_type": "code",
      "source": [
        "img_array = df.pixels.apply(lambda x: np.array(x.split(' ')).reshape(48, 48, 1).astype('float32'))\n",
        "img_array = np.stack(img_array, axis=0)"
      ],
      "metadata": {
        "execution": {
          "iopub.status.busy": "2024-01-27T17:23:48.599863Z",
          "iopub.execute_input": "2024-01-27T17:23:48.600081Z",
          "iopub.status.idle": "2024-01-27T17:24:52.943567Z",
          "shell.execute_reply.started": "2024-01-27T17:23:48.600056Z",
          "shell.execute_reply": "2024-01-27T17:24:52.942694Z"
        },
        "trusted": true,
        "id": "7xt3JoFuCLlN"
      },
      "execution_count": 15,
      "outputs": []
    },
    {
      "cell_type": "code",
      "source": [
        "img_array.shape"
      ],
      "metadata": {
        "execution": {
          "iopub.status.busy": "2024-01-27T17:24:52.944962Z",
          "iopub.execute_input": "2024-01-27T17:24:52.945292Z",
          "iopub.status.idle": "2024-01-27T17:24:52.950781Z",
          "shell.execute_reply.started": "2024-01-27T17:24:52.945254Z",
          "shell.execute_reply": "2024-01-27T17:24:52.949845Z"
        },
        "trusted": true,
        "colab": {
          "base_uri": "https://localhost:8080/"
        },
        "id": "WM7ZQgp3CLlO",
        "outputId": "3be49236-a551-4b00-e06c-5dec7089f7fe"
      },
      "execution_count": 16,
      "outputs": [
        {
          "output_type": "execute_result",
          "data": {
            "text/plain": [
              "(23705, 48, 48, 1)"
            ]
          },
          "metadata": {},
          "execution_count": 16
        }
      ]
    },
    {
      "cell_type": "code",
      "source": [
        "from tensorflow.keras.utils import to_categorical\n",
        "le = LabelEncoder()\n",
        "img_labels = le.fit_transform(df.gender)\n",
        "img_labels = to_categorical(img_labels)\n",
        "img_labels.shape"
      ],
      "metadata": {
        "execution": {
          "iopub.status.busy": "2024-01-27T17:24:52.952144Z",
          "iopub.execute_input": "2024-01-27T17:24:52.952500Z",
          "iopub.status.idle": "2024-01-27T17:24:52.964998Z",
          "shell.execute_reply.started": "2024-01-27T17:24:52.952415Z",
          "shell.execute_reply": "2024-01-27T17:24:52.964219Z"
        },
        "trusted": true,
        "colab": {
          "base_uri": "https://localhost:8080/"
        },
        "id": "O0yFts1TCLlO",
        "outputId": "f1420a4a-09b3-4786-d8ce-fad749be65cb"
      },
      "execution_count": 17,
      "outputs": [
        {
          "output_type": "execute_result",
          "data": {
            "text/plain": [
              "(23705, 2)"
            ]
          },
          "metadata": {},
          "execution_count": 17
        }
      ]
    },
    {
      "cell_type": "code",
      "source": [
        "le_name_mapping = dict(zip(le.classes_, le.transform(le.classes_)))\n",
        "print(le_name_mapping)"
      ],
      "metadata": {
        "execution": {
          "iopub.status.busy": "2024-01-27T17:24:52.966305Z",
          "iopub.execute_input": "2024-01-27T17:24:52.966604Z",
          "iopub.status.idle": "2024-01-27T17:24:52.973254Z",
          "shell.execute_reply.started": "2024-01-27T17:24:52.966566Z",
          "shell.execute_reply": "2024-01-27T17:24:52.972608Z"
        },
        "trusted": true,
        "colab": {
          "base_uri": "https://localhost:8080/"
        },
        "id": "VU98oMIfCLlO",
        "outputId": "7fefe8da-c4a6-494b-d49d-3c6b72d3e7d3"
      },
      "execution_count": 18,
      "outputs": [
        {
          "output_type": "stream",
          "name": "stdout",
          "text": [
            "{0: 0, 1: 1}\n"
          ]
        }
      ]
    },
    {
      "cell_type": "markdown",
      "source": [
        "`Splitting the data into training and validation set.`"
      ],
      "metadata": {
        "id": "fhWpOnZ6CLlO"
      }
    },
    {
      "cell_type": "code",
      "source": [
        "X_train, X_valid, y_train, y_valid = train_test_split(img_array, img_labels,\n",
        "                                                    shuffle=True, stratify=img_labels,\n",
        "                                                    test_size=0.1, random_state=42)\n",
        "X_train.shape, X_valid.shape, y_train.shape, y_valid.shape"
      ],
      "metadata": {
        "execution": {
          "iopub.status.busy": "2024-01-27T17:24:52.974605Z",
          "iopub.execute_input": "2024-01-27T17:24:52.974889Z",
          "iopub.status.idle": "2024-01-27T17:24:53.335861Z",
          "shell.execute_reply.started": "2024-01-27T17:24:52.974854Z",
          "shell.execute_reply": "2024-01-27T17:24:53.335098Z"
        },
        "trusted": true,
        "id": "tMqMP8TQCLlO",
        "colab": {
          "base_uri": "https://localhost:8080/"
        },
        "outputId": "06220804-daf0-4af1-ee93-19959cfdb210"
      },
      "execution_count": 19,
      "outputs": [
        {
          "output_type": "execute_result",
          "data": {
            "text/plain": [
              "((21334, 48, 48, 1), (2371, 48, 48, 1), (21334, 2), (2371, 2))"
            ]
          },
          "metadata": {},
          "execution_count": 19
        }
      ]
    },
    {
      "cell_type": "code",
      "source": [
        "del df\n",
        "del img_array\n",
        "del img_labels"
      ],
      "metadata": {
        "execution": {
          "iopub.status.busy": "2024-01-27T17:24:53.337140Z",
          "iopub.execute_input": "2024-01-27T17:24:53.337382Z",
          "iopub.status.idle": "2024-01-27T17:24:53.343090Z",
          "shell.execute_reply.started": "2024-01-27T17:24:53.337355Z",
          "shell.execute_reply": "2024-01-27T17:24:53.342267Z"
        },
        "trusted": true,
        "id": "WE_qP_LoCLlP"
      },
      "execution_count": null,
      "outputs": []
    },
    {
      "cell_type": "code",
      "source": [
        "img_width = X_train.shape[1]\n",
        "img_height = X_train.shape[2]\n",
        "img_depth = X_train.shape[3]"
      ],
      "metadata": {
        "execution": {
          "iopub.status.busy": "2024-01-27T17:24:53.344168Z",
          "iopub.execute_input": "2024-01-27T17:24:53.344372Z",
          "iopub.status.idle": "2024-01-27T17:24:53.353964Z",
          "shell.execute_reply.started": "2024-01-27T17:24:53.344348Z",
          "shell.execute_reply": "2024-01-27T17:24:53.353319Z"
        },
        "trusted": true,
        "id": "TZ2dfGA8CLlP"
      },
      "execution_count": 20,
      "outputs": []
    },
    {
      "cell_type": "code",
      "source": [
        "# Normalizing results, as neural networks are very sensitive to unnormalized data.\n",
        "X_train = X_train / 255.\n",
        "X_valid = X_valid / 255."
      ],
      "metadata": {
        "execution": {
          "iopub.status.busy": "2024-01-27T17:24:53.355004Z",
          "iopub.execute_input": "2024-01-27T17:24:53.355232Z",
          "iopub.status.idle": "2024-01-27T17:24:53.442811Z",
          "shell.execute_reply.started": "2024-01-27T17:24:53.355205Z",
          "shell.execute_reply": "2024-01-27T17:24:53.442166Z"
        },
        "trusted": true,
        "id": "D4bGj-9ICLlP"
      },
      "execution_count": 21,
      "outputs": []
    },
    {
      "cell_type": "code",
      "source": [
        "def build_net(optim):\n",
        "    \"\"\"\n",
        "    This is a Deep Convolutional Neural Network (DCNN). For generalization purpose I used dropouts in regular intervals.\n",
        "    I used `ELU` as the activation because it avoids dying relu problem but also performed well as compared to LeakyRelu\n",
        "    atleast in this case. `he_normal` kernel initializer is used as it suits ELU. BatchNormalization is also used for better\n",
        "    results.\n",
        "    \"\"\"\n",
        "    net = Sequential(name='DCNN')\n",
        "\n",
        "    net.add(\n",
        "        Conv2D(\n",
        "            filters=64,\n",
        "            kernel_size=(5,5),\n",
        "            input_shape=(img_width, img_height, img_depth),\n",
        "            activation='elu',\n",
        "            padding='same',\n",
        "            kernel_initializer='he_normal',\n",
        "            name='conv2d_1'\n",
        "        )\n",
        "    )\n",
        "    net.add(BatchNormalization(name='batchnorm_1'))\n",
        "    net.add(\n",
        "        Conv2D(\n",
        "            filters=64,\n",
        "            kernel_size=(5,5),\n",
        "            activation='elu',\n",
        "            padding='same',\n",
        "            kernel_initializer='he_normal',\n",
        "            name='conv2d_2'\n",
        "        )\n",
        "    )\n",
        "    net.add(BatchNormalization(name='batchnorm_2'))\n",
        "\n",
        "    net.add(MaxPooling2D(pool_size=(2,2), name='maxpool2d_1'))\n",
        "    net.add(Dropout(0.4, name='dropout_1'))\n",
        "\n",
        "    net.add(\n",
        "        Conv2D(\n",
        "            filters=128,\n",
        "            kernel_size=(3,3),\n",
        "            activation='elu',\n",
        "            padding='same',\n",
        "            kernel_initializer='he_normal',\n",
        "            name='conv2d_3'\n",
        "        )\n",
        "    )\n",
        "    net.add(BatchNormalization(name='batchnorm_3'))\n",
        "    net.add(\n",
        "        Conv2D(\n",
        "            filters=128,\n",
        "            kernel_size=(3,3),\n",
        "            activation='elu',\n",
        "            padding='same',\n",
        "            kernel_initializer='he_normal',\n",
        "            name='conv2d_4'\n",
        "        )\n",
        "    )\n",
        "    net.add(BatchNormalization(name='batchnorm_4'))\n",
        "\n",
        "    net.add(MaxPooling2D(pool_size=(2,2), name='maxpool2d_2'))\n",
        "    net.add(Dropout(0.4, name='dropout_2'))\n",
        "\n",
        "    net.add(\n",
        "        Conv2D(\n",
        "            filters=256,\n",
        "            kernel_size=(3,3),\n",
        "            activation='elu',\n",
        "            padding='same',\n",
        "            kernel_initializer='he_normal',\n",
        "            name='conv2d_5'\n",
        "        )\n",
        "    )\n",
        "    net.add(BatchNormalization(name='batchnorm_5'))\n",
        "    net.add(\n",
        "        Conv2D(\n",
        "            filters=256,\n",
        "            kernel_size=(3,3),\n",
        "            activation='elu',\n",
        "            padding='same',\n",
        "            kernel_initializer='he_normal',\n",
        "            name='conv2d_6'\n",
        "        )\n",
        "    )\n",
        "    net.add(BatchNormalization(name='batchnorm_6'))\n",
        "\n",
        "    net.add(MaxPooling2D(pool_size=(2,2), name='maxpool2d_3'))\n",
        "    net.add(Dropout(0.5, name='dropout_3'))\n",
        "\n",
        "    net.add(Flatten(name='flatten'))\n",
        "\n",
        "    net.add(\n",
        "        Dense(\n",
        "            128,\n",
        "            activation='elu',\n",
        "            kernel_initializer='he_normal',\n",
        "            name='dense_1'\n",
        "        )\n",
        "    )\n",
        "    net.add(BatchNormalization(name='batchnorm_7'))\n",
        "\n",
        "    net.add(Dropout(0.6, name='dropout_4'))\n",
        "\n",
        "    net.add(\n",
        "        Dense(\n",
        "            2,\n",
        "            activation='softmax',\n",
        "            name='out_layer'\n",
        "        )\n",
        "    )\n",
        "\n",
        "    net.compile(\n",
        "        loss='binary_crossentropy',\n",
        "        optimizer=optim,\n",
        "        metrics=['accuracy']\n",
        "    )\n",
        "\n",
        "    net.summary()\n",
        "\n",
        "    return net"
      ],
      "metadata": {
        "execution": {
          "iopub.status.busy": "2024-01-27T17:24:53.444016Z",
          "iopub.execute_input": "2024-01-27T17:24:53.444243Z",
          "iopub.status.idle": "2024-01-27T17:24:53.467116Z",
          "shell.execute_reply.started": "2024-01-27T17:24:53.444218Z",
          "shell.execute_reply": "2024-01-27T17:24:53.466191Z"
        },
        "trusted": true,
        "id": "n3nOdfpkCLlP"
      },
      "execution_count": 30,
      "outputs": []
    },
    {
      "cell_type": "code",
      "source": [
        "\"\"\"\n",
        "I used two callbacks one is `early stopping` for avoiding overfitting training data\n",
        "and other `ReduceLROnPlateau` for learning rate.\n",
        "\"\"\"\n",
        "\n",
        "early_stopping = EarlyStopping(\n",
        "    monitor='val_accuracy',\n",
        "    min_delta=0.00005,\n",
        "    patience=11,\n",
        "    verbose=1,\n",
        "    restore_best_weights=True,\n",
        ")\n",
        "\n",
        "lr_scheduler = ReduceLROnPlateau(\n",
        "    monitor='val_accuracy',\n",
        "    factor=0.5,\n",
        "    patience=7,\n",
        "    min_lr=1e-7,\n",
        "    verbose=1,\n",
        ")\n",
        "\n",
        "callbacks = [\n",
        "    early_stopping,\n",
        "    lr_scheduler,\n",
        "]"
      ],
      "metadata": {
        "execution": {
          "iopub.status.busy": "2024-01-27T17:24:53.468236Z",
          "iopub.execute_input": "2024-01-27T17:24:53.468457Z",
          "iopub.status.idle": "2024-01-27T17:24:53.479897Z",
          "shell.execute_reply.started": "2024-01-27T17:24:53.468432Z",
          "shell.execute_reply": "2024-01-27T17:24:53.479253Z"
        },
        "trusted": true,
        "id": "PBNKqVr6CLlP"
      },
      "execution_count": 27,
      "outputs": []
    },
    {
      "cell_type": "code",
      "source": [
        "# As the data in hand is less as compared to the task so ImageDataGenerator is good to go.\n",
        "train_datagen = ImageDataGenerator(\n",
        "    rotation_range=15,\n",
        "    width_shift_range=0.15,\n",
        "    height_shift_range=0.15,\n",
        "    shear_range=0.15,\n",
        "    zoom_range=0.15,\n",
        "    horizontal_flip=True,\n",
        ")\n",
        "train_datagen.fit(X_train)"
      ],
      "metadata": {
        "execution": {
          "iopub.status.busy": "2024-01-27T17:24:53.481188Z",
          "iopub.execute_input": "2024-01-27T17:24:53.481404Z",
          "iopub.status.idle": "2024-01-27T17:24:53.538515Z",
          "shell.execute_reply.started": "2024-01-27T17:24:53.481380Z",
          "shell.execute_reply": "2024-01-27T17:24:53.537783Z"
        },
        "trusted": true,
        "id": "zAr8QqH2CLlP"
      },
      "execution_count": 28,
      "outputs": []
    },
    {
      "cell_type": "code",
      "source": [
        "import numpy as np\n",
        "from sklearn.svm import SVC\n",
        "from sklearn.metrics import accuracy_score\n",
        "\n",
        "# Assuming y_train and y_valid are one-hot encoded with shape (21334, 2)\n",
        "# Convert one-hot encoded labels to binary class labels\n",
        "y_train_binary = np.argmax(y_train, axis=1)\n",
        "y_valid_binary = np.argmax(y_valid, axis=1)\n",
        "\n",
        "# Flatten the images\n",
        "X_train_flat = X_train.reshape(X_train.shape[0], -1)\n",
        "X_valid_flat = X_valid.reshape(X_valid.shape[0], -1)\n",
        "\n",
        "# Initialize the SVM model\n",
        "svm_model = SVC()\n",
        "\n",
        "# Train the model\n",
        "svm_model.fit(X_train_flat, y_train_binary)\n",
        "\n",
        "# Make predictions\n",
        "y_pred = svm_model.predict(X_valid_flat)\n",
        "\n",
        "# Calculate accuracy\n",
        "accuracy = accuracy_score(y_valid_binary, y_pred)\n",
        "print(\"Accuracy:\", accuracy)\n"
      ],
      "metadata": {
        "colab": {
          "base_uri": "https://localhost:8080/"
        },
        "id": "zPTGgSnL4Sax",
        "outputId": "ceb287e3-1089-495a-b94b-db98335d3ea5"
      },
      "execution_count": 23,
      "outputs": [
        {
          "output_type": "stream",
          "name": "stdout",
          "text": [
            "Accuracy: 0.8599746942218474\n"
          ]
        }
      ]
    },
    {
      "cell_type": "code",
      "source": [
        "import cv2\n",
        "import matplotlib.pyplot as plt\n",
        "\n",
        "\n",
        "# Load the image file\n",
        "your_image_path = '/content/female.jpeg'\n",
        "image_data = cv2.imread(your_image_path, cv2.IMREAD_GRAYSCALE)\n",
        "\n",
        "# Check if the image data is loaded successfully\n",
        "if image_data is None:\n",
        "    print(\"Error: Unable to load the image.\")\n",
        "else:\n",
        "    # Resize the image to match the model's input shape (48x48)\n",
        "    resized_image = cv2.resize(image_data, (48, 48))\n",
        "\n",
        "    # Reshape the image to match the model's input shape\n",
        "    sample_img_reshaped = resized_image.reshape(1, 48, 48, 1)\n",
        "    sample_img_reshaped = sample_img_reshaped.reshape(1, -1)\n",
        "\n",
        "    # Get model predictions (assuming 'model' and 'mapper' are defined)\n",
        "    predictions = svm_model.predict(sample_img_reshaped)\n",
        "    # Visualize the original image along with the predicted emotion\n",
        "    fig = plt.figure(figsize=(5, 5))\n",
        "    plt.imshow(resized_image, cmap='gray')\n",
        "    plt.title(f\"Predicted Emotion: {predictions}\")\n",
        "    plt.axis('off')\n",
        "    plt.show()"
      ],
      "metadata": {
        "colab": {
          "base_uri": "https://localhost:8080/",
          "height": 444
        },
        "id": "QqBu52yo7CJM",
        "outputId": "e8fbe059-21f8-41f6-a3da-3b90abc90f6e"
      },
      "execution_count": 28,
      "outputs": [
        {
          "output_type": "display_data",
          "data": {
            "text/plain": [
              "<Figure size 500x500 with 1 Axes>"
            ],
            "image/png": "[encoded data removed]"
          },
          "metadata": {}
        }
      ]
    },
    {
      "cell_type": "code",
      "source": [
        "batch_size = 32 #batch size of 32 performs the best.\n",
        "epochs = 100\n",
        "optims = [\n",
        "    optimizers.Nadam(learning_rate=0.001, beta_1=0.9, beta_2=0.999, epsilon=1e-07, name='Nadam'),\n",
        "    optimizers.Adam(0.001),\n",
        "]\n",
        "\n",
        "# I tried both `Nadam` and `Adam`, the difference in results is not different but I finally went with Nadam as it is more popular.\n",
        "model = build_net(optims[1])\n",
        "history = model.fit_generator(\n",
        "    train_datagen.flow(X_train, y_train, batch_size=batch_size),\n",
        "    validation_data=(X_valid, y_valid),\n",
        "    steps_per_epoch=len(X_train) / batch_size,\n",
        "    epochs=epochs,\n",
        "    callbacks=callbacks,\n",
        "    use_multiprocessing=True\n",
        ")"
      ],
      "metadata": {
        "execution": {
          "iopub.status.busy": "2024-01-27T17:24:53.539760Z",
          "iopub.execute_input": "2024-01-27T17:24:53.539986Z",
          "iopub.status.idle": "2024-01-27T17:39:55.177013Z",
          "shell.execute_reply.started": "2024-01-27T17:24:53.539961Z",
          "shell.execute_reply": "2024-01-27T17:39:55.175884Z"
        },
        "trusted": true,
        "colab": {
          "base_uri": "https://localhost:8080/"
        },
        "id": "BRnWwcu2CLlP",
        "outputId": "b52f739d-bada-47d2-8c83-32b2dc3a6f95"
      },
      "execution_count": 31,
      "outputs": [
        {
          "output_type": "stream",
          "name": "stdout",
          "text": [
            "Model: \"DCNN\"\n",
            "_________________________________________________________________\n",
            " Layer (type)                Output Shape              Param #   \n",
            "=================================================================\n",
            " conv2d_1 (Conv2D)           (None, 48, 48, 64)        1664      \n",
            "                                                                 \n",
            " batchnorm_1 (BatchNormaliz  (None, 48, 48, 64)        256       \n",
            " ation)                                                          \n",
            "                                                                 \n",
            " conv2d_2 (Conv2D)           (None, 48, 48, 64)        102464    \n",
            "                                                                 \n",
            " batchnorm_2 (BatchNormaliz  (None, 48, 48, 64)        256       \n",
            " ation)                                                          \n",
            "                                                                 \n",
            " maxpool2d_1 (MaxPooling2D)  (None, 24, 24, 64)        0         \n",
            "                                                                 \n",
            " dropout_1 (Dropout)         (None, 24, 24, 64)        0         \n",
            "                                                                 \n",
            " conv2d_3 (Conv2D)           (None, 24, 24, 128)       73856     \n",
            "                                                                 \n",
            " batchnorm_3 (BatchNormaliz  (None, 24, 24, 128)       512       \n",
            " ation)                                                          \n",
            "                                                                 \n",
            " conv2d_4 (Conv2D)           (None, 24, 24, 128)       147584    \n",
            "                                                                 \n",
            " batchnorm_4 (BatchNormaliz  (None, 24, 24, 128)       512       \n",
            " ation)                                                          \n",
            "                                                                 \n",
            " maxpool2d_2 (MaxPooling2D)  (None, 12, 12, 128)       0         \n",
            "                                                                 \n",
            " dropout_2 (Dropout)         (None, 12, 12, 128)       0         \n",
            "                                                                 \n",
            " conv2d_5 (Conv2D)           (None, 12, 12, 256)       295168    \n",
            "                                                                 \n",
            " batchnorm_5 (BatchNormaliz  (None, 12, 12, 256)       1024      \n",
            " ation)                                                          \n",
            "                                                                 \n",
            " conv2d_6 (Conv2D)           (None, 12, 12, 256)       590080    \n",
            "                                                                 \n",
            " batchnorm_6 (BatchNormaliz  (None, 12, 12, 256)       1024      \n",
            " ation)                                                          \n",
            "                                                                 \n",
            " maxpool2d_3 (MaxPooling2D)  (None, 6, 6, 256)         0         \n",
            "                                                                 \n",
            " dropout_3 (Dropout)         (None, 6, 6, 256)         0         \n",
            "                                                                 \n",
            " flatten (Flatten)           (None, 9216)              0         \n",
            "                                                                 \n",
            " dense_1 (Dense)             (None, 128)               1179776   \n",
            "                                                                 \n",
            " batchnorm_7 (BatchNormaliz  (None, 128)               512       \n",
            " ation)                                                          \n",
            "                                                                 \n",
            " dropout_4 (Dropout)         (None, 128)               0         \n",
            "                                                                 \n",
            " out_layer (Dense)           (None, 2)                 258       \n",
            "                                                                 \n",
            "=================================================================\n",
            "Total params: 2394946 (9.14 MB)\n",
            "Trainable params: 2392898 (9.13 MB)\n",
            "Non-trainable params: 2048 (8.00 KB)\n",
            "_________________________________________________________________\n",
            "Epoch 1/100\n"
          ]
        },
        {
          "output_type": "stream",
          "name": "stderr",
          "text": [
            "<ipython-input-31-b39dcc308b2a>:10: UserWarning: `Model.fit_generator` is deprecated and will be removed in a future version. Please use `Model.fit`, which supports generators.\n",
            "  history = model.fit_generator(\n"
          ]
        },
        {
          "output_type": "stream",
          "name": "stdout",
          "text": [
            "666/666 [==============================] - 27s 34ms/step - loss: 0.6588 - accuracy: 0.6790 - val_loss: 0.4552 - val_accuracy: 0.7929 - lr: 0.0010\n",
            "Epoch 2/100\n",
            "666/666 [==============================] - 24s 35ms/step - loss: 0.4555 - accuracy: 0.7937 - val_loss: 0.3307 - val_accuracy: 0.8524 - lr: 0.0010\n",
            "Epoch 3/100\n",
            "666/666 [==============================] - 23s 34ms/step - loss: 0.3971 - accuracy: 0.8201 - val_loss: 0.2881 - val_accuracy: 0.8722 - lr: 0.0010\n",
            "Epoch 4/100\n",
            "666/666 [==============================] - 23s 35ms/step - loss: 0.3586 - accuracy: 0.8411 - val_loss: 0.2783 - val_accuracy: 0.8773 - lr: 0.0010\n",
            "Epoch 5/100\n",
            "666/666 [==============================] - 22s 33ms/step - loss: 0.3363 - accuracy: 0.8498 - val_loss: 0.2636 - val_accuracy: 0.8794 - lr: 0.0010\n",
            "Epoch 6/100\n",
            "666/666 [==============================] - 23s 34ms/step - loss: 0.3211 - accuracy: 0.8602 - val_loss: 0.2426 - val_accuracy: 0.8878 - lr: 0.0010\n",
            "Epoch 7/100\n",
            "666/666 [==============================] - 22s 33ms/step - loss: 0.3092 - accuracy: 0.8642 - val_loss: 0.2715 - val_accuracy: 0.8823 - lr: 0.0010\n",
            "Epoch 8/100\n",
            "666/666 [==============================] - 22s 33ms/step - loss: 0.2980 - accuracy: 0.8707 - val_loss: 0.2568 - val_accuracy: 0.8819 - lr: 0.0010\n",
            "Epoch 9/100\n",
            "666/666 [==============================] - 23s 34ms/step - loss: 0.2934 - accuracy: 0.8726 - val_loss: 0.2337 - val_accuracy: 0.8912 - lr: 0.0010\n",
            "Epoch 10/100\n",
            "666/666 [==============================] - 22s 32ms/step - loss: 0.2845 - accuracy: 0.8773 - val_loss: 0.2160 - val_accuracy: 0.9043 - lr: 0.0010\n",
            "Epoch 11/100\n",
            "666/666 [==============================] - 23s 35ms/step - loss: 0.2791 - accuracy: 0.8799 - val_loss: 0.2336 - val_accuracy: 0.8891 - lr: 0.0010\n",
            "Epoch 12/100\n",
            "666/666 [==============================] - 24s 36ms/step - loss: 0.2690 - accuracy: 0.8844 - val_loss: 0.2070 - val_accuracy: 0.9097 - lr: 0.0010\n",
            "Epoch 13/100\n",
            "666/666 [==============================] - 21s 32ms/step - loss: 0.2650 - accuracy: 0.8879 - val_loss: 0.1989 - val_accuracy: 0.9152 - lr: 0.0010\n",
            "Epoch 14/100\n",
            "666/666 [==============================] - 23s 35ms/step - loss: 0.2635 - accuracy: 0.8901 - val_loss: 0.2266 - val_accuracy: 0.9034 - lr: 0.0010\n",
            "Epoch 15/100\n",
            "666/666 [==============================] - 23s 34ms/step - loss: 0.2601 - accuracy: 0.8893 - val_loss: 0.2003 - val_accuracy: 0.9110 - lr: 0.0010\n",
            "Epoch 16/100\n",
            "666/666 [==============================] - 23s 34ms/step - loss: 0.2609 - accuracy: 0.8885 - val_loss: 0.1996 - val_accuracy: 0.9144 - lr: 0.0010\n",
            "Epoch 17/100\n",
            "666/666 [==============================] - 22s 33ms/step - loss: 0.2522 - accuracy: 0.8944 - val_loss: 0.2070 - val_accuracy: 0.9114 - lr: 0.0010\n",
            "Epoch 18/100\n",
            "666/666 [==============================] - 23s 34ms/step - loss: 0.2577 - accuracy: 0.8907 - val_loss: 0.2127 - val_accuracy: 0.9081 - lr: 0.0010\n",
            "Epoch 19/100\n",
            "666/666 [==============================] - 22s 33ms/step - loss: 0.2484 - accuracy: 0.8956 - val_loss: 0.1906 - val_accuracy: 0.9123 - lr: 0.0010\n",
            "Epoch 20/100\n",
            "666/666 [============================>.] - ETA: 0s - loss: 0.2474 - accuracy: 0.8959\n",
            "Epoch 20: ReduceLROnPlateau reducing learning rate to 0.0005000000237487257.\n",
            "666/666 [==============================] - 22s 33ms/step - loss: 0.2475 - accuracy: 0.8958 - val_loss: 0.2032 - val_accuracy: 0.9089 - lr: 0.0010\n",
            "Epoch 21/100\n",
            "666/666 [==============================] - 22s 33ms/step - loss: 0.2295 - accuracy: 0.9038 - val_loss: 0.1874 - val_accuracy: 0.9110 - lr: 5.0000e-04\n",
            "Epoch 22/100\n",
            "666/666 [==============================] - 24s 36ms/step - loss: 0.2301 - accuracy: 0.9032 - val_loss: 0.1776 - val_accuracy: 0.9182 - lr: 5.0000e-04\n",
            "Epoch 23/100\n",
            "666/666 [==============================] - 22s 33ms/step - loss: 0.2253 - accuracy: 0.9086 - val_loss: 0.1864 - val_accuracy: 0.9190 - lr: 5.0000e-04\n",
            "Epoch 24/100\n",
            "666/666 [==============================] - 22s 32ms/step - loss: 0.2229 - accuracy: 0.9072 - val_loss: 0.1803 - val_accuracy: 0.9186 - lr: 5.0000e-04\n",
            "Epoch 25/100\n",
            "666/666 [==============================] - 23s 34ms/step - loss: 0.2237 - accuracy: 0.9071 - val_loss: 0.1876 - val_accuracy: 0.9186 - lr: 5.0000e-04\n",
            "Epoch 26/100\n",
            "666/666 [==============================] - 23s 34ms/step - loss: 0.2193 - accuracy: 0.9117 - val_loss: 0.1839 - val_accuracy: 0.9203 - lr: 5.0000e-04\n",
            "Epoch 27/100\n",
            "666/666 [==============================] - 22s 32ms/step - loss: 0.2206 - accuracy: 0.9098 - val_loss: 0.1837 - val_accuracy: 0.9258 - lr: 5.0000e-04\n",
            "Epoch 28/100\n",
            "666/666 [==============================] - 23s 35ms/step - loss: 0.2171 - accuracy: 0.9099 - val_loss: 0.1863 - val_accuracy: 0.9194 - lr: 5.0000e-04\n",
            "Epoch 29/100\n",
            "666/666 [==============================] - 21s 32ms/step - loss: 0.2185 - accuracy: 0.9092 - val_loss: 0.1788 - val_accuracy: 0.9249 - lr: 5.0000e-04\n",
            "Epoch 30/100\n",
            "666/666 [==============================] - 22s 33ms/step - loss: 0.2141 - accuracy: 0.9106 - val_loss: 0.1745 - val_accuracy: 0.9258 - lr: 5.0000e-04\n",
            "Epoch 31/100\n",
            "666/666 [==============================] - 23s 35ms/step - loss: 0.2143 - accuracy: 0.9133 - val_loss: 0.1781 - val_accuracy: 0.9224 - lr: 5.0000e-04\n",
            "Epoch 32/100\n",
            "666/666 [==============================] - 22s 33ms/step - loss: 0.2165 - accuracy: 0.9124 - val_loss: 0.1822 - val_accuracy: 0.9207 - lr: 5.0000e-04\n",
            "Epoch 33/100\n",
            "666/666 [==============================] - 22s 33ms/step - loss: 0.2069 - accuracy: 0.9163 - val_loss: 0.1797 - val_accuracy: 0.9237 - lr: 5.0000e-04\n",
            "Epoch 34/100\n",
            "666/666 [============================>.] - ETA: 0s - loss: 0.2063 - accuracy: 0.9174\n",
            "Epoch 34: ReduceLROnPlateau reducing learning rate to 0.0002500000118743628.\n",
            "666/666 [==============================] - 23s 34ms/step - loss: 0.2066 - accuracy: 0.9173 - val_loss: 0.1856 - val_accuracy: 0.9232 - lr: 5.0000e-04\n",
            "Epoch 35/100\n",
            "666/666 [==============================] - 23s 34ms/step - loss: 0.2021 - accuracy: 0.9163 - val_loss: 0.1721 - val_accuracy: 0.9283 - lr: 2.5000e-04\n",
            "Epoch 36/100\n",
            "666/666 [==============================] - 22s 33ms/step - loss: 0.2011 - accuracy: 0.9184 - val_loss: 0.1756 - val_accuracy: 0.9237 - lr: 2.5000e-04\n",
            "Epoch 37/100\n",
            "666/666 [==============================] - 23s 35ms/step - loss: 0.1992 - accuracy: 0.9193 - val_loss: 0.1755 - val_accuracy: 0.9275 - lr: 2.5000e-04\n",
            "Epoch 38/100\n",
            "666/666 [==============================] - 23s 35ms/step - loss: 0.2003 - accuracy: 0.9198 - val_loss: 0.1759 - val_accuracy: 0.9275 - lr: 2.5000e-04\n",
            "Epoch 39/100\n",
            "666/666 [==============================] - 22s 33ms/step - loss: 0.1976 - accuracy: 0.9186 - val_loss: 0.1749 - val_accuracy: 0.9296 - lr: 2.5000e-04\n",
            "Epoch 40/100\n",
            "666/666 [==============================] - 22s 33ms/step - loss: 0.1956 - accuracy: 0.9210 - val_loss: 0.1785 - val_accuracy: 0.9228 - lr: 2.5000e-04\n",
            "Epoch 41/100\n",
            "666/666 [==============================] - 23s 34ms/step - loss: 0.1951 - accuracy: 0.9222 - val_loss: 0.1720 - val_accuracy: 0.9296 - lr: 2.5000e-04\n",
            "Epoch 42/100\n",
            "666/666 [==============================] - 22s 32ms/step - loss: 0.1966 - accuracy: 0.9206 - val_loss: 0.1720 - val_accuracy: 0.9291 - lr: 2.5000e-04\n",
            "Epoch 43/100\n",
            "666/666 [==============================] - 23s 34ms/step - loss: 0.1915 - accuracy: 0.9222 - val_loss: 0.1712 - val_accuracy: 0.9283 - lr: 2.5000e-04\n",
            "Epoch 44/100\n",
            "666/666 [==============================] - 23s 35ms/step - loss: 0.1970 - accuracy: 0.9211 - val_loss: 0.1731 - val_accuracy: 0.9304 - lr: 2.5000e-04\n",
            "Epoch 45/100\n",
            "666/666 [==============================] - 22s 33ms/step - loss: 0.1934 - accuracy: 0.9200 - val_loss: 0.1723 - val_accuracy: 0.9291 - lr: 2.5000e-04\n",
            "Epoch 46/100\n",
            "666/666 [==============================] - 23s 34ms/step - loss: 0.1888 - accuracy: 0.9244 - val_loss: 0.1730 - val_accuracy: 0.9313 - lr: 2.5000e-04\n",
            "Epoch 47/100\n",
            "666/666 [==============================] - 23s 35ms/step - loss: 0.1937 - accuracy: 0.9239 - val_loss: 0.1700 - val_accuracy: 0.9275 - lr: 2.5000e-04\n",
            "Epoch 48/100\n",
            "666/666 [==============================] - 22s 33ms/step - loss: 0.1904 - accuracy: 0.9236 - val_loss: 0.1749 - val_accuracy: 0.9275 - lr: 2.5000e-04\n",
            "Epoch 49/100\n",
            "666/666 [==============================] - 23s 35ms/step - loss: 0.1870 - accuracy: 0.9238 - val_loss: 0.1734 - val_accuracy: 0.9300 - lr: 2.5000e-04\n",
            "Epoch 50/100\n",
            "666/666 [==============================] - 23s 34ms/step - loss: 0.1913 - accuracy: 0.9214 - val_loss: 0.1737 - val_accuracy: 0.9287 - lr: 2.5000e-04\n",
            "Epoch 51/100\n",
            "666/666 [==============================] - 23s 34ms/step - loss: 0.1878 - accuracy: 0.9251 - val_loss: 0.1701 - val_accuracy: 0.9300 - lr: 2.5000e-04\n",
            "Epoch 52/100\n",
            "666/666 [==============================] - 22s 32ms/step - loss: 0.1845 - accuracy: 0.9253 - val_loss: 0.1762 - val_accuracy: 0.9296 - lr: 2.5000e-04\n",
            "Epoch 53/100\n",
            "666/666 [============================>.] - ETA: 0s - loss: 0.1822 - accuracy: 0.9284\n",
            "Epoch 53: ReduceLROnPlateau reducing learning rate to 0.0001250000059371814.\n",
            "666/666 [==============================] - 23s 35ms/step - loss: 0.1822 - accuracy: 0.9283 - val_loss: 0.1706 - val_accuracy: 0.9304 - lr: 2.5000e-04\n",
            "Epoch 54/100\n",
            "666/666 [==============================] - 22s 33ms/step - loss: 0.1843 - accuracy: 0.9242 - val_loss: 0.1693 - val_accuracy: 0.9300 - lr: 1.2500e-04\n",
            "Epoch 55/100\n",
            "666/666 [==============================] - 23s 34ms/step - loss: 0.1862 - accuracy: 0.9247 - val_loss: 0.1692 - val_accuracy: 0.9325 - lr: 1.2500e-04\n",
            "Epoch 56/100\n",
            "666/666 [==============================] - 22s 33ms/step - loss: 0.1843 - accuracy: 0.9281 - val_loss: 0.1708 - val_accuracy: 0.9308 - lr: 1.2500e-04\n",
            "Epoch 57/100\n",
            "666/666 [==============================] - 23s 35ms/step - loss: 0.1876 - accuracy: 0.9259 - val_loss: 0.1709 - val_accuracy: 0.9296 - lr: 1.2500e-04\n",
            "Epoch 58/100\n",
            "666/666 [==============================] - 22s 33ms/step - loss: 0.1786 - accuracy: 0.9286 - val_loss: 0.1753 - val_accuracy: 0.9296 - lr: 1.2500e-04\n",
            "Epoch 59/100\n",
            "666/666 [==============================] - 22s 33ms/step - loss: 0.1822 - accuracy: 0.9261 - val_loss: 0.1727 - val_accuracy: 0.9296 - lr: 1.2500e-04\n",
            "Epoch 60/100\n",
            "666/666 [==============================] - 24s 35ms/step - loss: 0.1806 - accuracy: 0.9285 - val_loss: 0.1757 - val_accuracy: 0.9300 - lr: 1.2500e-04\n",
            "Epoch 61/100\n",
            "666/666 [==============================] - 22s 33ms/step - loss: 0.1739 - accuracy: 0.9302 - val_loss: 0.1745 - val_accuracy: 0.9291 - lr: 1.2500e-04\n",
            "Epoch 62/100\n",
            "666/666 [============================>.] - ETA: 0s - loss: 0.1757 - accuracy: 0.9309\n",
            "Epoch 62: ReduceLROnPlateau reducing learning rate to 6.25000029685907e-05.\n",
            "666/666 [==============================] - 23s 35ms/step - loss: 0.1756 - accuracy: 0.9310 - val_loss: 0.1705 - val_accuracy: 0.9266 - lr: 1.2500e-04\n",
            "Epoch 63/100\n",
            "666/666 [==============================] - 22s 33ms/step - loss: 0.1751 - accuracy: 0.9298 - val_loss: 0.1720 - val_accuracy: 0.9296 - lr: 6.2500e-05\n",
            "Epoch 64/100\n",
            "666/666 [==============================] - 23s 34ms/step - loss: 0.1798 - accuracy: 0.9284 - val_loss: 0.1717 - val_accuracy: 0.9313 - lr: 6.2500e-05\n",
            "Epoch 65/100\n",
            "666/666 [==============================] - 22s 33ms/step - loss: 0.1777 - accuracy: 0.9304 - val_loss: 0.1686 - val_accuracy: 0.9304 - lr: 6.2500e-05\n",
            "Epoch 66/100\n",
            "666/666 [============================>.] - ETA: 0s - loss: 0.1743 - accuracy: 0.9323Restoring model weights from the end of the best epoch: 55.\n",
            "666/666 [==============================] - 22s 33ms/step - loss: 0.1741 - accuracy: 0.9324 - val_loss: 0.1697 - val_accuracy: 0.9291 - lr: 6.2500e-05\n",
            "Epoch 66: early stopping\n"
          ]
        }
      ]
    },
    {
      "cell_type": "code",
      "source": [
        "model.save(\"mode.h5\")"
      ],
      "metadata": {
        "execution": {
          "iopub.status.busy": "2024-01-27T17:39:55.179587Z",
          "iopub.execute_input": "2024-01-27T17:39:55.179925Z",
          "iopub.status.idle": "2024-01-27T17:39:55.418978Z",
          "shell.execute_reply.started": "2024-01-27T17:39:55.179879Z",
          "shell.execute_reply": "2024-01-27T17:39:55.418244Z"
        },
        "trusted": true,
        "colab": {
          "base_uri": "https://localhost:8080/"
        },
        "id": "3SmECIkgCLlP",
        "outputId": "7ec8d1e8-dd4c-4c35-de47-8c68863d670c"
      },
      "execution_count": 45,
      "outputs": [
        {
          "output_type": "stream",
          "name": "stderr",
          "text": [
            "/usr/local/lib/python3.10/dist-packages/keras/src/engine/training.py:3103: UserWarning: You are saving your model as an HDF5 file via `model.save()`. This file format is considered legacy. We recommend using instead the native Keras format, e.g. `model.save('my_model.keras')`.\n",
            "  saving_api.save_model(\n"
          ]
        }
      ]
    },
    {
      "cell_type": "code",
      "source": [
        "sns.set()\n",
        "fig = pyplot.figure(0, (12, 4))\n",
        "\n",
        "ax = pyplot.subplot(1, 2, 1)\n",
        "sns.lineplot(history.epoch, history.history['accuracy'], label='train')\n",
        "sns.lineplot(history.epoch, history.history['val_accuracy'], label='valid')\n",
        "pyplot.title('Accuracy')\n",
        "pyplot.tight_layout()\n",
        "\n",
        "ax = pyplot.subplot(1, 2, 2)\n",
        "sns.lineplot(history.epoch, history.history['loss'], label='train')\n",
        "sns.lineplot(history.epoch, history.history['val_loss'], label='valid')\n",
        "pyplot.title('Loss')\n",
        "pyplot.tight_layout()\n",
        "\n",
        "pyplot.savefig('epoch_history_dcnn.png')\n",
        "pyplot.show()"
      ],
      "metadata": {
        "execution": {
          "iopub.status.busy": "2024-01-27T17:39:55.420433Z",
          "iopub.execute_input": "2024-01-27T17:39:55.420717Z",
          "iopub.status.idle": "2024-01-27T17:39:56.702858Z",
          "shell.execute_reply.started": "2024-01-27T17:39:55.420689Z",
          "shell.execute_reply": "2024-01-27T17:39:56.701938Z"
        },
        "trusted": true,
        "id": "1aWPT5D3CLlQ",
        "colab": {
          "base_uri": "https://localhost:8080/",
          "height": 615
        },
        "outputId": "9d52d56d-63f1-46b4-826e-309c9539f9dd"
      },
      "execution_count": 32,
      "outputs": [
        {
          "output_type": "error",
          "ename": "TypeError",
          "evalue": "lineplot() takes from 0 to 1 positional arguments but 2 were given",
          "traceback": [
            "\u001b[0;31m---------------------------------------------------------------------------\u001b[0m",
            "\u001b[0;31mTypeError\u001b[0m                                 Traceback (most recent call last)",
            "\u001b[0;32m<ipython-input-32-989894419bce>\u001b[0m in \u001b[0;36m<cell line: 5>\u001b[0;34m()\u001b[0m\n\u001b[1;32m      3\u001b[0m \u001b[0;34m\u001b[0m\u001b[0m\n\u001b[1;32m      4\u001b[0m \u001b[0max\u001b[0m \u001b[0;34m=\u001b[0m \u001b[0mpyplot\u001b[0m\u001b[0;34m.\u001b[0m\u001b[0msubplot\u001b[0m\u001b[0;34m(\u001b[0m\u001b[0;36m1\u001b[0m\u001b[0;34m,\u001b[0m \u001b[0;36m2\u001b[0m\u001b[0;34m,\u001b[0m \u001b[0;36m1\u001b[0m\u001b[0;34m)\u001b[0m\u001b[0;34m\u001b[0m\u001b[0;34m\u001b[0m\u001b[0m\n\u001b[0;32m----> 5\u001b[0;31m \u001b[0msns\u001b[0m\u001b[0;34m.\u001b[0m\u001b[0mlineplot\u001b[0m\u001b[0;34m(\u001b[0m\u001b[0mhistory\u001b[0m\u001b[0;34m.\u001b[0m\u001b[0mepoch\u001b[0m\u001b[0;34m,\u001b[0m \u001b[0mhistory\u001b[0m\u001b[0;34m.\u001b[0m\u001b[0mhistory\u001b[0m\u001b[0;34m[\u001b[0m\u001b[0;34m'accuracy'\u001b[0m\u001b[0;34m]\u001b[0m\u001b[0;34m,\u001b[0m \u001b[0mlabel\u001b[0m\u001b[0;34m=\u001b[0m\u001b[0;34m'train'\u001b[0m\u001b[0;34m)\u001b[0m\u001b[0;34m\u001b[0m\u001b[0;34m\u001b[0m\u001b[0m\n\u001b[0m\u001b[1;32m      6\u001b[0m \u001b[0msns\u001b[0m\u001b[0;34m.\u001b[0m\u001b[0mlineplot\u001b[0m\u001b[0;34m(\u001b[0m\u001b[0mhistory\u001b[0m\u001b[0;34m.\u001b[0m\u001b[0mepoch\u001b[0m\u001b[0;34m,\u001b[0m \u001b[0mhistory\u001b[0m\u001b[0;34m.\u001b[0m\u001b[0mhistory\u001b[0m\u001b[0;34m[\u001b[0m\u001b[0;34m'val_accuracy'\u001b[0m\u001b[0;34m]\u001b[0m\u001b[0;34m,\u001b[0m \u001b[0mlabel\u001b[0m\u001b[0;34m=\u001b[0m\u001b[0;34m'valid'\u001b[0m\u001b[0;34m)\u001b[0m\u001b[0;34m\u001b[0m\u001b[0;34m\u001b[0m\u001b[0m\n\u001b[1;32m      7\u001b[0m \u001b[0mpyplot\u001b[0m\u001b[0;34m.\u001b[0m\u001b[0mtitle\u001b[0m\u001b[0;34m(\u001b[0m\u001b[0;34m'Accuracy'\u001b[0m\u001b[0;34m)\u001b[0m\u001b[0;34m\u001b[0m\u001b[0;34m\u001b[0m\u001b[0m\n",
            "\u001b[0;31mTypeError\u001b[0m: lineplot() takes from 0 to 1 positional arguments but 2 were given"
          ]
        },
        {
          "output_type": "display_data",
          "data": {
            "text/plain": [
              "<Figure size 1200x400 with 1 Axes>"
            ],
            "image/png": "[encoded data removed]"
          },
          "metadata": {}
        }
      ]
    },
    {
      "cell_type": "markdown",
      "source": [
        "    The epochs history shows that accuracy gradually increases and achieved +83% accuracy on both training and validation set, but at the end the model starts overfitting training data."
      ],
      "metadata": {
        "id": "jULQ-T-LCLlQ"
      }
    },
    {
      "cell_type": "code",
      "source": [
        "df_accu = pd.DataFrame({'train': history.history['accuracy'], 'valid': history.history['val_accuracy']})\n",
        "df_loss = pd.DataFrame({'train': history.history['loss'], 'valid': history.history['val_loss']})\n",
        "\n",
        "fig = pyplot.figure(0, (14, 4))\n",
        "ax = pyplot.subplot(1, 2, 1)\n",
        "sns.violinplot(x=\"variable\", y=\"value\", data=pd.melt(df_accu), showfliers=False)\n",
        "pyplot.title('Accuracy')\n",
        "pyplot.tight_layout()\n",
        "\n",
        "ax = pyplot.subplot(1, 2, 2)\n",
        "sns.violinplot(x=\"variable\", y=\"value\", data=pd.melt(df_loss), showfliers=False)\n",
        "pyplot.title('Loss')\n",
        "pyplot.tight_layout()\n",
        "\n",
        "pyplot.savefig('performance_dist.png')\n",
        "pyplot.show()"
      ],
      "metadata": {
        "execution": {
          "iopub.status.busy": "2024-01-27T17:39:56.704448Z",
          "iopub.execute_input": "2024-01-27T17:39:56.704815Z",
          "iopub.status.idle": "2024-01-27T17:39:57.451506Z",
          "shell.execute_reply.started": "2024-01-27T17:39:56.704773Z",
          "shell.execute_reply": "2024-01-27T17:39:57.450752Z"
        },
        "trusted": true,
        "id": "EQqx-Y_uCLlQ"
      },
      "execution_count": null,
      "outputs": []
    },
    {
      "cell_type": "code",
      "source": [
        "yhat_valid = model.predict_classes(X_valid)\n",
        "scikitplot.metrics.plot_confusion_matrix(np.argmax(y_valid, axis=1), yhat_valid, figsize=(7,7))\n",
        "pyplot.savefig(\"confusion_matrix_dcnn.png\")\n",
        "\n",
        "print(f'total wrong validation predictions: {np.sum(np.argmax(y_valid, axis=1) != yhat_valid)}\\n\\n')\n",
        "print(classification_report(np.argmax(y_valid, axis=1), yhat_valid))"
      ],
      "metadata": {
        "execution": {
          "iopub.status.busy": "2024-01-27T17:39:57.452615Z",
          "iopub.execute_input": "2024-01-27T17:39:57.452830Z",
          "iopub.status.idle": "2024-01-27T17:39:58.530291Z",
          "shell.execute_reply.started": "2024-01-27T17:39:57.452805Z",
          "shell.execute_reply": "2024-01-27T17:39:58.529446Z"
        },
        "trusted": true,
        "id": "DY2MAJVXCLlQ"
      },
      "execution_count": null,
      "outputs": []
    },
    {
      "cell_type": "markdown",
      "source": [
        "The confusion matrix clearly shows that our model is doing good job on the class `happy` but it's performance is low on other two classes. One of the reason for this could be the fact that these two classes have less data. But when I looked at the images I found some images from these two classes are even hard for a human to tell whether the person is sad or neutral. Facial expression depends on individual as well. Some person's neutral face looks like sad."
      ],
      "metadata": {
        "id": "yEQizFsdCLlQ"
      }
    },
    {
      "cell_type": "code",
      "source": [
        "mapper = {\n",
        "    0: \"Male\",\n",
        "    1: \"Female\",\n",
        "}"
      ],
      "metadata": {
        "execution": {
          "iopub.status.busy": "2024-01-27T17:40:38.341595Z",
          "iopub.execute_input": "2024-01-27T17:40:38.341886Z",
          "iopub.status.idle": "2024-01-27T17:40:38.346222Z",
          "shell.execute_reply.started": "2024-01-27T17:40:38.341858Z",
          "shell.execute_reply": "2024-01-27T17:40:38.345250Z"
        },
        "trusted": true,
        "id": "IMo9neqMCLlQ"
      },
      "execution_count": 33,
      "outputs": []
    },
    {
      "cell_type": "code",
      "source": [
        "import numpy as np\n",
        "from matplotlib import pyplot\n",
        "\n",
        "np.random.seed(2)\n",
        "random_sad_imgs = np.random.choice(np.where(y_valid[:, 1] == 1)[0], size=9)\n",
        "\n",
        "fig = pyplot.figure(1, (18, 4))\n",
        "\n",
        "for i, sadidx in enumerate(random_sad_imgs):\n",
        "    ax = pyplot.subplot(2, 9, i + 1)\n",
        "    sample_img = X_valid[sadidx, :, :, 0]\n",
        "    ax.imshow(sample_img, cmap='gray')\n",
        "    ax.set_xticks([])\n",
        "    ax.set_yticks([])\n",
        "\n",
        "    # Reshape sample_img to match model's input shape\n",
        "    sample_img_reshaped = sample_img.reshape(1, 48, 48, 1)\n",
        "\n",
        "    # Get model predictions\n",
        "    predictions = model.predict(sample_img_reshaped)\n",
        "\n",
        "    # Get predicted class index\n",
        "    predicted_class_index = np.argmax(predictions)\n",
        "\n",
        "    # Get emotion label using predicted class index\n",
        "    predicted_emotion = mapper[predicted_class_index]\n",
        "\n",
        "    ax.set_title(f\"true:sad, pred:{predicted_emotion}\")\n",
        "\n",
        "# Moved outside the loop\n",
        "pyplot.tight_layout()\n",
        "pyplot.show()\n"
      ],
      "metadata": {
        "execution": {
          "iopub.status.busy": "2024-01-27T17:40:42.293158Z",
          "iopub.execute_input": "2024-01-27T17:40:42.293432Z",
          "iopub.status.idle": "2024-01-27T17:40:44.878886Z",
          "shell.execute_reply.started": "2024-01-27T17:40:42.293405Z",
          "shell.execute_reply": "2024-01-27T17:40:44.878014Z"
        },
        "trusted": true,
        "colab": {
          "base_uri": "https://localhost:8080/",
          "height": 309
        },
        "id": "NnCGSeJoCLlR",
        "outputId": "545e50e8-5356-4afc-9807-4cdfe360ca41"
      },
      "execution_count": 34,
      "outputs": [
        {
          "output_type": "stream",
          "name": "stdout",
          "text": [
            "1/1 [==============================] - 1s 557ms/step\n",
            "1/1 [==============================] - 0s 18ms/step\n",
            "1/1 [==============================] - 0s 18ms/step\n",
            "1/1 [==============================] - 0s 17ms/step\n",
            "1/1 [==============================] - 0s 20ms/step\n",
            "1/1 [==============================] - 0s 18ms/step\n",
            "1/1 [==============================] - 0s 39ms/step\n",
            "1/1 [==============================] - 0s 28ms/step\n",
            "1/1 [==============================] - 0s 25ms/step\n"
          ]
        },
        {
          "output_type": "display_data",
          "data": {
            "text/plain": [
              "<Figure size 1800x400 with 9 Axes>"
            ],
            "image/png": "[encoded data removed]"
          },
          "metadata": {}
        }
      ]
    },
    {
      "cell_type": "code",
      "source": [
        "mapper = {\n",
        "    0: \"Male\",\n",
        "    1: \"Female\",\n",
        "}\n",
        "\n",
        "import cv2\n",
        "import numpy as np\n",
        "from matplotlib import pyplot as plt\n",
        "\n",
        "# Load the image file\n",
        "your_image_path = '/content/fem.jpeg'\n",
        "image_data = cv2.imread(your_image_path, cv2.IMREAD_GRAYSCALE)\n",
        "\n",
        "# Check if the image data is loaded successfully\n",
        "if image_data is None:\n",
        "    print(\"Error: Unable to load the image.\")\n",
        "else:\n",
        "    # Resize the image to match the model's input shape (48x48)\n",
        "    resized_image = cv2.resize(image_data, (48, 48))\n",
        "\n",
        "    # Reshape the image to match the model's input shape\n",
        "    sample_img_reshaped = resized_image.reshape(1, 48, 48, 1)\n",
        "\n",
        "    # Get model predictions (assuming 'model' and 'mapper' are defined)\n",
        "    predictions = model.predict(sample_img_reshaped)\n",
        "    predicted_class_index = np.argmax(predictions)\n",
        "    predicted_emotion = mapper[predicted_class_index]\n",
        "\n",
        "    # Visualize the original image along with the predicted emotion\n",
        "    fig = plt.figure(figsize=(5, 5))\n",
        "    plt.imshow(resized_image, cmap='gray')\n",
        "    plt.title(f\"Predicted Emotion: {predicted_emotion}\")\n",
        "    plt.axis('off')\n",
        "    plt.show()\n"
      ],
      "metadata": {
        "colab": {
          "base_uri": "https://localhost:8080/",
          "height": 462
        },
        "id": "xMpP0c0qPKRV",
        "outputId": "fea11ce1-484b-4ba3-fda2-d40171b1f173"
      },
      "execution_count": 44,
      "outputs": [
        {
          "output_type": "stream",
          "name": "stdout",
          "text": [
            "1/1 [==============================] - 0s 30ms/step\n"
          ]
        },
        {
          "output_type": "display_data",
          "data": {
            "text/plain": [
              "<Figure size 500x500 with 1 Axes>"
            ],
            "image/png": "[encoded data removed]"
          },
          "metadata": {}
        }
      ]
    },
    {
      "cell_type": "markdown",
      "source": [
        "See in the first row 7th image looks more like neutral rather than sad and our model even predicted it neutral. Whereas the last image in second row is very much sad."
      ],
      "metadata": {
        "id": "RWZTP9cMCLlR"
      }
    },
    {
      "cell_type": "code",
      "source": [],
      "metadata": {
        "trusted": true,
        "id": "QRN_Is-tCLlR"
      },
      "execution_count": null,
      "outputs": []
    }
  ]
}